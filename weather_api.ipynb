{
 "cells": [
  {
   "cell_type": "code",
   "execution_count": null,
   "metadata": {},
   "outputs": [],
   "source": [
    "from api_key import OPEN_WEATHER_API_KEY\n",
    "import requests\n",
    "import json"
   ]
  },
  {
   "cell_type": "code",
   "execution_count": null,
   "metadata": {},
   "outputs": [],
   "source": [
    "zip_code = '95765'\n",
    "# country_code = 'us'\n",
    "country_code = None\n",
    "country_name = 'USA'\n",
    "city_name = 'Rocklin'\n"
   ]
  },
  {
   "cell_type": "code",
   "execution_count": null,
   "metadata": {},
   "outputs": [],
   "source": [
    "import pandas as pd"
   ]
  },
  {
   "cell_type": "code",
   "execution_count": null,
   "metadata": {},
   "outputs": [],
   "source": [
    "(df['name'] == country_name.upper()) | (df['alpha-2'] == country_name.upper())"
   ]
  },
  {
   "cell_type": "code",
   "execution_count": null,
   "metadata": {},
   "outputs": [],
   "source": [
    "df = pd.read_csv('country_code.csv', header = 0)\n",
    "df['name'] = df['name'].str.upper()\n",
    "# df.head()\n",
    "if country_name is not None:\n",
    "    country_code = (df[(df['name'] == country_name.upper()) | (df['alpha-2'] == country_name.upper()) | (df['alpha-3'] == country_name.upper())]['alpha-2']).iloc[0]"
   ]
  },
  {
   "cell_type": "code",
   "execution_count": null,
   "metadata": {},
   "outputs": [],
   "source": [
    "# url = f'https://api.openweathermap.org/data/2.5/weather?zip={zip_code},us&appid={OPEN_WEATHER_API_KEY}&units=imperial'\n",
    "# url = f'https://api.openweathermap.org/data/2.5/weather?zip={zip_code},q={city_name},usa&appid={OPEN_WEATHER_API_KEY}&units=imperial' #won't work\n",
    "\n",
    "url = f'http://api.openweathermap.org/geo/1.0/direct?q={city_name},{country_code}&limit=1&appid={OPEN_WEATHER_API_KEY}'\n",
    "# url = f'http://api.openweathermap.org/geo/1.0/zip?zip={zip_code},{country_code}&appid={OPEN_WEATHER_API_KEY}'\n"
   ]
  },
  {
   "cell_type": "code",
   "execution_count": null,
   "metadata": {},
   "outputs": [],
   "source": [
    "response = requests.get(url)\n",
    "if response.status_code == 200:\n",
    "    data = response.json()\n",
    "    # Process the data here\n",
    "else:\n",
    "    print(\"Error:\", response.status_code)"
   ]
  },
  {
   "cell_type": "code",
   "execution_count": null,
   "metadata": {},
   "outputs": [],
   "source": [
    "print(response.text)"
   ]
  },
  {
   "cell_type": "code",
   "execution_count": null,
   "metadata": {},
   "outputs": [],
   "source": [
    "print(json.dumps(data, indent=4)) #with zip"
   ]
  },
  {
   "cell_type": "code",
   "execution_count": null,
   "metadata": {},
   "outputs": [],
   "source": [
    "print(json.dumps(data, indent=4)) #with city"
   ]
  },
  {
   "cell_type": "code",
   "execution_count": null,
   "metadata": {},
   "outputs": [],
   "source": [
    "url = f'https://api.openweathermap.org/data/2.5/weather?lat={data['lat']}&lon={data['lon']}&appid={OPEN_WEATHER_API_KEY}&units=imperial'\n",
    "response = requests.get(url)\n",
    "if response.status_code == 200:\n",
    "    data1 = response.json()\n",
    "    # Process the data here\n",
    "else:\n",
    "    print(\"Error:\", response.status_code)\n",
    "print(json.dumps(data1, indent=4))"
   ]
  },
  {
   "cell_type": "code",
   "execution_count": null,
   "metadata": {},
   "outputs": [],
   "source": [
    "def get_response(url):\n",
    "    response = requests.get(url)\n",
    "    if response.status_code == 200:\n",
    "        data = response.json()\n",
    "    else:\n",
    "        print(\"Error:\", response.status_code)\n",
    "    return data"
   ]
  },
  {
   "cell_type": "code",
   "execution_count": null,
   "metadata": {},
   "outputs": [],
   "source": [
    "import api_key"
   ]
  },
  {
   "cell_type": "code",
   "execution_count": null,
   "metadata": {},
   "outputs": [],
   "source": [
    "def get_weather(zip_code=None, country_name=None, city_name=None, is_forecast = 0, dt_txt = \"2024-04-26 03:00:00\"):\n",
    "    '''Getting current weather or forecast for the upcoming 5 days (not more than that) at a specified location using zip code and country name or city name and country name combinations. When zip code is parsed, country name also should be present. If it's a forecast, we need the date text in the UTC timezone.'''\n",
    "    country_code = None\n",
    "    if country_name is not None:\n",
    "        country_code = (df[(df['name'] == country_name.upper()) | (df['alpha-2'] == country_name.upper()) | (df['alpha-3'] == country_name.upper())]['alpha-2']).iloc[0]\n",
    "    if city_name is None and zip_code is None:\n",
    "        return \"Need city name or zip code\"\n",
    "    if zip_code is not None:\n",
    "        url = f'http://api.openweathermap.org/geo/1.0/zip?zip={zip_code},{country_code}&appid={api_key.OPEN_WEATHER_API_KEY}'\n",
    "        geo_data = get_response(url)\n",
    "    elif city_name is not None:\n",
    "        url = f'http://api.openweathermap.org/geo/1.0/direct?q={city_name},{country_code}&limit=1&appid={api_key.OPEN_WEATHER_API_KEY}'\n",
    "        geo_data = get_response(url)[0]\n",
    "    else:\n",
    "        return \"Wrong\"\n",
    "    json.dump(geo_data, open(\"geo_data.json\", 'w+'))\n",
    "\n",
    "    if not is_forecast:\n",
    "        url = f'https://api.openweathermap.org/data/2.5/weather?lat={geo_data['lat']}&lon={geo_data['lon']}&appid={api_key.OPEN_WEATHER_API_KEY}&units=imperial'\n",
    "        data = get_response(url)\n",
    "    else:\n",
    "        url = f'https://api.openweathermap.org/data/2.5/forecast?lat={geo_data['lat']}&lon={geo_data['lon']}&appid={api_key.OPEN_WEATHER_API_KEY}&units=imperial'\n",
    "        data = get_response(url)\n",
    "        # data = json.loads(\"forecast.json\")\n",
    "    #     only_date_json = {}\n",
    "    #     print(type(data[\"list\"]), len(data[\"list\"]))\n",
    "    #     idx = 0\n",
    "    #     for i in data[\"list\"]:\n",
    "    #         idx += 1\n",
    "    #         print(idx)\n",
    "    #         # print(i[\"dt_txt\"])\n",
    "    #         if i[\"dt_txt\"] == dt_txt:\n",
    "    #             print(\"YEs\")\n",
    "    #             only_date_json = i\n",
    "    #             break\n",
    "    #     data[\"list\"] =[only_date_json]\n",
    "    #     print(type(data[\"list\"]), len(data[\"list\"]))\n",
    "    # print(url)\n",
    "    # data = get_response(url)\n",
    "    return data"
   ]
  },
  {
   "cell_type": "code",
   "execution_count": null,
   "metadata": {},
   "outputs": [],
   "source": [
    "json.dump(data, fp = open('forecast.json','w+'))"
   ]
  },
  {
   "cell_type": "code",
   "execution_count": null,
   "metadata": {},
   "outputs": [],
   "source": [
    "data = json.load(open('forecast.json','r'))"
   ]
  },
  {
   "cell_type": "code",
   "execution_count": null,
   "metadata": {},
   "outputs": [],
   "source": [
    "data = get_weather(zip_code=None, country_name=None, city_name='Rocklin', is_forecast = 1, dt_txt = \"2024-04-26 03:00:00\")\n",
    "data"
   ]
  },
  {
   "cell_type": "code",
   "execution_count": null,
   "metadata": {},
   "outputs": [],
   "source": [
    "print(type(data[\"list\"]), len(data[\"list\"]))"
   ]
  },
  {
   "cell_type": "code",
   "execution_count": null,
   "metadata": {},
   "outputs": [],
   "source": [
    "only_date_json = {}\n",
    "print(type(data[\"list\"]), len(data[\"list\"]))\n",
    "# data_copy = data.copy()\n",
    "# print(len(data_copy[\"list\"]), str(data_copy[\"list\"]))\n",
    "\n",
    "cnt_No = 0\n",
    "for idx,i in enumerate(data[\"list\"]):\n",
    "    print(i)\n",
    "    idx += 1\n",
    "    print(idx)\n",
    "    # print(i[\"dt_txt\"])\n",
    "    if i[\"dt_txt\"] == \"2024-04-26 06:00:00\":\n",
    "        print(\"YEs\")\n",
    "        only_date_json = i\n",
    "        break\n",
    "        # print(i)\n",
    "data[\"list\"] =[only_date_json]\n",
    "print(type(data[\"list\"]), len(data[\"list\"]), cnt_No)"
   ]
  },
  {
   "cell_type": "code",
   "execution_count": null,
   "metadata": {},
   "outputs": [],
   "source": [
    "data"
   ]
  },
  {
   "cell_type": "code",
   "execution_count": null,
   "metadata": {},
   "outputs": [],
   "source": [
    "len(l[\"list\"])"
   ]
  },
  {
   "cell_type": "code",
   "execution_count": null,
   "metadata": {},
   "outputs": [],
   "source": [
    "l[\"list\"].remove({'dt': 1714100400,\n",
    "  'main': {'temp': 59.67,\n",
    "   'feels_like': 59,\n",
    "   'temp_min': 59.67,\n",
    "   'temp_max': 59.67,\n",
    "   'pressure': 1014,\n",
    "   'sea_level': 1014,\n",
    "   'grnd_level': 1004,\n",
    "   'humidity': 78,\n",
    "   'temp_kf': 0},\n",
    "  'weather': [{'id': 500,\n",
    "    'main': 'Rain',\n",
    "    'description': 'light rain',\n",
    "    'icon': '10n'}],\n",
    "  'clouds': {'all': 100},\n",
    "  'wind': {'speed': 7.52, 'deg': 184, 'gust': 16.89},\n",
    "  'visibility': 10000,\n",
    "  'pop': 1,\n",
    "  'rain': {'3h': 0.87},\n",
    "  'sys': {'pod': 'n'},\n",
    "  'dt_txt': '2024-04-26 03:00:00'})"
   ]
  },
  {
   "cell_type": "code",
   "execution_count": null,
   "metadata": {},
   "outputs": [],
   "source": [
    "from datetime import datetime, timezone, timedelta\n",
    "datetime.today().strftime(\"%Y-%m-%d %H:%M:%S\")"
   ]
  },
  {
   "cell_type": "code",
   "execution_count": null,
   "metadata": {},
   "outputs": [],
   "source": [
    "datetime.now(timezone.utc).strftime(\"%Y-%m-%d %H:%M:%S\"), datetime.now().strftime(\"%Y-%m-%d %H:%M:%S\")"
   ]
  },
  {
   "cell_type": "code",
   "execution_count": null,
   "metadata": {},
   "outputs": [],
   "source": [
    "datetime.now().timestamp(), datetime.now().timestamp()-25200 #timezone.utc"
   ]
  },
  {
   "cell_type": "code",
   "execution_count": null,
   "metadata": {},
   "outputs": [],
   "source": [
    "import time\n",
    "time.time()\n"
   ]
  },
  {
   "cell_type": "code",
   "execution_count": null,
   "metadata": {},
   "outputs": [],
   "source": [
    "(datetime.now() + timedelta(days=1)).strftime(\"%Y-%m-%d %H:%M:%S\"),(datetime.now() + timedelta(days=1)).timestamp()#.strftime(\"%Y-%m-%d 12:%M:%S\")"
   ]
  },
  {
   "cell_type": "code",
   "execution_count": null,
   "metadata": {},
   "outputs": [],
   "source": [
    "round((datetime.now() + timedelta(days=1)).timestamp(),-2)"
   ]
  },
  {
   "cell_type": "code",
   "execution_count": null,
   "metadata": {},
   "outputs": [],
   "source": [
    "t = datetime.strptime('2024-04-26 12:00:00',\"%Y-%m-%d %H:%M:%S\" )\n",
    "print(t)\n",
    "t.timestamp()"
   ]
  },
  {
   "cell_type": "code",
   "execution_count": null,
   "metadata": {},
   "outputs": [],
   "source": [
    "(datetime.now() + timedelta(days=1)).strftime(\"%Y-%m-%d %H:%M:%S\"),(datetime.now() + timedelta(days=1)).timestamp()"
   ]
  },
  {
   "cell_type": "code",
   "execution_count": null,
   "metadata": {},
   "outputs": [],
   "source": [
    "!pip install geopy"
   ]
  },
  {
   "cell_type": "code",
   "execution_count": null,
   "metadata": {},
   "outputs": [],
   "source": [
    "!pip install timezonefinder"
   ]
  },
  {
   "cell_type": "code",
   "execution_count": null,
   "metadata": {},
   "outputs": [],
   "source": [
    "from timezonefinder import TimezoneFinder "
   ]
  },
  {
   "cell_type": "code",
   "execution_count": null,
   "metadata": {},
   "outputs": [],
   "source": [
    "# object creation \n",
    "obj = TimezoneFinder()\n",
    "latitude = 38.7907\n",
    "longitude = -121.2358\n",
    "\n",
    "timezone_value = obj.timezone_at(lng=longitude, lat=latitude)\n",
    "timezone_value"
   ]
  },
  {
   "cell_type": "code",
   "execution_count": null,
   "metadata": {},
   "outputs": [],
   "source": [
    "import pytz "
   ]
  },
  {
   "cell_type": "code",
   "execution_count": null,
   "metadata": {},
   "outputs": [],
   "source": [
    "datetime.now(timezone.utc).strftime(\"%Y-%m-%d %H:%M:%S\"), datetime.now().strftime(\"%Y-%m-%d %H:%M:%S\"), datetime.now(pytz.timezone('Asia/Kolkata') ).strftime(\"%Y-%m-%d %H:%M:%S\")"
   ]
  },
  {
   "cell_type": "code",
   "execution_count": null,
   "metadata": {},
   "outputs": [],
   "source": [
    "(datetime.now(pytz.timezone('Asia/Kolkata')) + timedelta(days = 1)).strftime(\"%Y-%m-%d 10:00:00\"), t.replace(hour=10, minute=0, second=0).timestamp()"
   ]
  },
  {
   "cell_type": "code",
   "execution_count": null,
   "metadata": {},
   "outputs": [],
   "source": [
    "t = (datetime.now(pytz.timezone('Asia/Kolkata')) + timedelta(days = 1))\n",
    "t = t.replace(hour=10, minute=0, second=0)\n",
    "t"
   ]
  },
  {
   "cell_type": "code",
   "execution_count": null,
   "metadata": {},
   "outputs": [],
   "source": [
    "1714111200 - 1714100400"
   ]
  },
  {
   "cell_type": "code",
   "execution_count": null,
   "metadata": {},
   "outputs": [],
   "source": [
    "(datetime.now(pytz.timezone(timezone_value)))"
   ]
  },
  {
   "cell_type": "code",
   "execution_count": null,
   "metadata": {},
   "outputs": [],
   "source": [
    "t, t.timestamp()"
   ]
  },
  {
   "cell_type": "code",
   "execution_count": null,
   "metadata": {},
   "outputs": [],
   "source": [
    "t = (datetime.now(pytz.timezone(timezone_value)) + timedelta(days = 1))\n",
    "t = t.replace(hour=10, minute=0, second=0)\n",
    "\n",
    "value = data[\"list\"][0][\"dt\"]\n",
    "for i in data[\"list\"]:\n",
    "    if abs(i[\"dt\"] - t.timestamp()) > value:\n",
    "        break\n",
    "    else:\n",
    "        value = abs(i[\"dt\"] - t.timestamp())\n",
    "        only_date_json = i\n",
    "        print(value)\n",
    "\n"
   ]
  },
  {
   "cell_type": "code",
   "execution_count": null,
   "metadata": {},
   "outputs": [],
   "source": [
    "only_date_json"
   ]
  },
  {
   "cell_type": "code",
   "execution_count": null,
   "metadata": {},
   "outputs": [],
   "source": []
  }
 ],
 "metadata": {
  "kernelspec": {
   "display_name": "base",
   "language": "python",
   "name": "python3"
  },
  "language_info": {
   "codemirror_mode": {
    "name": "ipython",
    "version": 3
   },
   "file_extension": ".py",
   "mimetype": "text/x-python",
   "name": "python",
   "nbconvert_exporter": "python",
   "pygments_lexer": "ipython3",
   "version": "3.12.2"
  }
 },
 "nbformat": 4,
 "nbformat_minor": 2
}
